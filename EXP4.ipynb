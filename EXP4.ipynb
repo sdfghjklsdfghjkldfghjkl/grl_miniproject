{
  "cells": [
    {
      "cell_type": "code",
      "execution_count": 1,
      "metadata": {
        "id": "3f29850b"
      },
      "outputs": [],
      "source": [
        "# from google.colab import drive\n",
        "# drive.mount('/content/drive')"
      ]
    },
    {
      "cell_type": "code",
      "execution_count": 2,
      "metadata": {
        "colab": {
          "base_uri": "https://localhost:8080/"
        },
        "id": "rb2wIZQdTsDG",
        "outputId": "867d547e-8b6f-4d04-b77d-c59eb65a6c94"
      },
      "outputs": [
        {
          "output_type": "stream",
          "name": "stdout",
          "text": [
            "2.1.0+cu121\n",
            "Requirement already satisfied: networkx in /usr/local/lib/python3.10/dist-packages (3.2.1)\n",
            "Collecting torch-geometric\n",
            "  Downloading torch_geometric-2.4.0-py3-none-any.whl (1.0 MB)\n",
            "\u001b[2K     \u001b[90m━━━━━━━━━━━━━━━━━━━━━━━━━━━━━━━━━━━━━━━━\u001b[0m \u001b[32m1.0/1.0 MB\u001b[0m \u001b[31m6.7 MB/s\u001b[0m eta \u001b[36m0:00:00\u001b[0m\n",
            "\u001b[?25hRequirement already satisfied: tqdm in /usr/local/lib/python3.10/dist-packages (from torch-geometric) (4.66.1)\n",
            "Requirement already satisfied: numpy in /usr/local/lib/python3.10/dist-packages (from torch-geometric) (1.23.5)\n",
            "Requirement already satisfied: scipy in /usr/local/lib/python3.10/dist-packages (from torch-geometric) (1.11.4)\n",
            "Requirement already satisfied: jinja2 in /usr/local/lib/python3.10/dist-packages (from torch-geometric) (3.1.2)\n",
            "Requirement already satisfied: requests in /usr/local/lib/python3.10/dist-packages (from torch-geometric) (2.31.0)\n",
            "Requirement already satisfied: pyparsing in /usr/local/lib/python3.10/dist-packages (from torch-geometric) (3.1.1)\n",
            "Requirement already satisfied: scikit-learn in /usr/local/lib/python3.10/dist-packages (from torch-geometric) (1.2.2)\n",
            "Requirement already satisfied: psutil>=5.8.0 in /usr/local/lib/python3.10/dist-packages (from torch-geometric) (5.9.5)\n",
            "Requirement already satisfied: MarkupSafe>=2.0 in /usr/local/lib/python3.10/dist-packages (from jinja2->torch-geometric) (2.1.3)\n",
            "Requirement already satisfied: charset-normalizer<4,>=2 in /usr/local/lib/python3.10/dist-packages (from requests->torch-geometric) (3.3.2)\n",
            "Requirement already satisfied: idna<4,>=2.5 in /usr/local/lib/python3.10/dist-packages (from requests->torch-geometric) (3.6)\n",
            "Requirement already satisfied: urllib3<3,>=1.21.1 in /usr/local/lib/python3.10/dist-packages (from requests->torch-geometric) (2.0.7)\n",
            "Requirement already satisfied: certifi>=2017.4.17 in /usr/local/lib/python3.10/dist-packages (from requests->torch-geometric) (2023.11.17)\n",
            "Requirement already satisfied: joblib>=1.1.1 in /usr/local/lib/python3.10/dist-packages (from scikit-learn->torch-geometric) (1.3.2)\n",
            "Requirement already satisfied: threadpoolctl>=2.0.0 in /usr/local/lib/python3.10/dist-packages (from scikit-learn->torch-geometric) (3.2.0)\n",
            "Installing collected packages: torch-geometric\n",
            "Successfully installed torch-geometric-2.4.0\n"
          ]
        }
      ],
      "source": [
        "!python3 -c \"import torch; print(torch.__version__)\"\n",
        "!pip3 install networkx\n",
        "!pip install torch-geometric"
      ]
    },
    {
      "cell_type": "code",
      "execution_count": 3,
      "metadata": {
        "id": "muJ-TbV6muhI"
      },
      "outputs": [],
      "source": [
        "#!pip3 install torch torchvision\n",
        "import torch\n",
        "import torch.nn as nn\n",
        "import numpy as np\n",
        "from numpy import inf\n",
        "from tqdm import tqdm\n",
        "\n",
        "from timeit import default_timer as timer\n",
        "\n",
        "\n",
        "import networkx as nx\n",
        "\n",
        "device = torch.device(\"cuda\") if torch.cuda.is_available() else torch.device(\"cpu\")"
      ]
    },
    {
      "cell_type": "markdown",
      "source": [
        "# Model Architecture"
      ],
      "metadata": {
        "id": "PzVRYRBTua7N"
      }
    },
    {
      "cell_type": "code",
      "execution_count": 4,
      "metadata": {
        "id": "TU3I3uOMNlIe"
      },
      "outputs": [],
      "source": [
        "class BaseGNNLayer(nn.Module):\n",
        "\n",
        "    def __init__(self, input_dim, output_dim):\n",
        "        super().__init__()\n",
        "        lim = 1\n",
        "        self.w_self = (-2 * lim * torch.rand(input_dim, output_dim) + lim).to(device)\n",
        "        self.w_neigh = (-2 * lim * torch.rand(input_dim, output_dim) + lim).to(device)\n",
        "\n",
        "    def forward(self, node_feats, adj_matrix):\n",
        "        node_feats_self = torch.mm(node_feats, self.w_self)\n",
        "        node_feats_neigh = torch.mm(torch.mm(adj_matrix, node_feats), self.w_neigh)\n",
        "\n",
        "        next_node_feats = node_feats_self + \\\n",
        "                        node_feats_neigh\n",
        "        return next_node_feats"
      ]
    },
    {
      "cell_type": "code",
      "execution_count": 5,
      "metadata": {
        "id": "Ims55n-hFhrt"
      },
      "outputs": [],
      "source": [
        "threshold = 1\n",
        "def act_fn(x):\n",
        "    return torch.clamp(x, min=-threshold, max=threshold)"
      ]
    },
    {
      "cell_type": "code",
      "execution_count": 6,
      "metadata": {
        "id": "TEnA7gA9pYU3"
      },
      "outputs": [],
      "source": [
        "class BaseGNNModule(nn.Module):\n",
        "\n",
        "    def __init__(self, input_dim, hidden_dim, output_dim, num_layers=2, act_fn=act_fn):\n",
        "        super().__init__()\n",
        "        self.layers = nn.ModuleList([BaseGNNLayer(input_dim, hidden_dim)]).to(device)\n",
        "        for i in range(num_layers - 2):\n",
        "            self.layers.append(BaseGNNLayer(hidden_dim, hidden_dim).to(device))\n",
        "        self.layers.append(BaseGNNLayer(hidden_dim, output_dim).to(device))\n",
        "        self.act_fn = act_fn\n",
        "\n",
        "    def forward(self, x, adj_matrix):\n",
        "        ### Add randomization !!!\n",
        "        x = torch.rand(x.shape).to(device)\n",
        "        for layer in self.layers:\n",
        "            x = self.act_fn(layer(x, adj_matrix))\n",
        "        return x"
      ]
    },
    {
      "cell_type": "code",
      "execution_count": 7,
      "metadata": {
        "id": "9pdZ9HCFx6Vu"
      },
      "outputs": [],
      "source": [
        "class MLPModule(nn.Module):\n",
        "\n",
        "    def __init__(self, input_dim, hidden_dim, output_dim, num_layers=2, act_fn=torch.tanh):\n",
        "        super().__init__()\n",
        "        self.layers = nn.ModuleList([nn.Linear(input_dim, hidden_dim)]).to(device)\n",
        "        for i in range(num_layers - 2):\n",
        "            self.layers.append(nn.Linear(hidden_dim, hidden_dim).to(device))\n",
        "        self.layers.append(nn.Linear(hidden_dim, output_dim).to(device))\n",
        "        self.act_fn = act_fn\n",
        "\n",
        "    def forward(self, x):\n",
        "        for layer in self.layers:\n",
        "            x = self.act_fn(layer(x))\n",
        "        return torch.sigmoid(x)"
      ]
    },
    {
      "cell_type": "code",
      "source": [
        "def loader(A):\n",
        "  n = len(A)\n",
        "  for i in range(n):\n",
        "    yield A[i]"
      ],
      "metadata": {
        "id": "qaBY_aXJSCkc"
      },
      "execution_count": 8,
      "outputs": []
    },
    {
      "cell_type": "markdown",
      "source": [
        "# Model Evaluation"
      ],
      "metadata": {
        "id": "fy4mYpueUwKD"
      }
    },
    {
      "cell_type": "code",
      "source": [
        "import torch_geometric.utils as U\n",
        "import random\n",
        "from torch_geometric.datasets import CitationFull\n",
        "# https://pytorch-geometric.readthedocs.io/en/latest/generated/torch_geometric.datasets.CitationFull.html#torch_geometric.datasets.CitationFull"
      ],
      "metadata": {
        "id": "nkhUH3t71HzB"
      },
      "execution_count": 9,
      "outputs": []
    },
    {
      "cell_type": "markdown",
      "source": [
        "# Cora Dataset"
      ],
      "metadata": {
        "id": "dtnzMfGntPvY"
      }
    },
    {
      "cell_type": "code",
      "source": [
        "# Load Cora-ML dataset\n",
        "data = CitationFull(root='', name = \"Cora_ML\")\n",
        "\n",
        "# Access the dataset's graph and labels\n",
        "cora_ML = data[0]\n",
        "cora_ML_adj = U.to_dense_adj(cora_ML.edge_index).squeeze(0).to(device)\n",
        "cora_ML_x = cora_ML.x[:,0:64].to(device)\n",
        "print(cora_ML)\n",
        "new_x = cora_ML.x[:,0:64]\n",
        "print(new_x.shape)\n",
        "print(cora_ML_adj.shape)\n",
        "torch.mean(torch.sum(cora_ML_adj, 1)).item()  ### mean degree"
      ],
      "metadata": {
        "colab": {
          "base_uri": "https://localhost:8080/"
        },
        "id": "C-a2NWin1Ztv",
        "outputId": "c1a5200c-1fc0-40c9-e09b-16cfb37a9b93"
      },
      "execution_count": 10,
      "outputs": [
        {
          "output_type": "stream",
          "name": "stderr",
          "text": [
            "Downloading https://github.com/abojchevski/graph2gauss/raw/master/data/cora_ml.npz\n",
            "Processing...\n",
            "Done!\n"
          ]
        },
        {
          "output_type": "stream",
          "name": "stdout",
          "text": [
            "Data(x=[2995, 2879], edge_index=[2, 16316], y=[2995])\n",
            "torch.Size([2995, 64])\n",
            "torch.Size([2995, 2995])\n"
          ]
        },
        {
          "output_type": "execute_result",
          "data": {
            "text/plain": [
              "5.447746276855469"
            ]
          },
          "metadata": {},
          "execution_count": 10
        }
      ]
    },
    {
      "cell_type": "markdown",
      "source": [
        "# Simulation"
      ],
      "metadata": {
        "id": "0nmdKGzVuiO-"
      }
    },
    {
      "cell_type": "code",
      "execution_count": 23,
      "metadata": {
        "id": "ve8QP-vxx501"
      },
      "outputs": [],
      "source": [
        "def get_csv(graph_func, NUM_NODES, num_layers = 3, num_models=10, print_info=False, r=0.5):\n",
        "  \"\"\"\n",
        "  graph_func(graph_dim, r) -> adj_matrix\n",
        "  \"\"\"\n",
        "  csv = []; cora_eval = []\n",
        "  d = 64; num_layers = 3;\n",
        "\n",
        "  # Calculate graphs upfront\n",
        "  A = [];\n",
        "  for graph_dim in NUM_NODES:\n",
        "    start_time = timer()\n",
        "    for idx in range(2**5):\n",
        "      A.append(graph_func(graph_dim, r))\n",
        "    print(f'Graphs of size {graph_dim} generated in {timer()-start_time}')\n",
        "\n",
        "  for mpnn_idx in range(num_models):  # There will be 10 plots.\n",
        "      # Initialize random BaseGNN model with sum aggregation.\n",
        "      base_gnn = BaseGNNModule(input_dim=d, hidden_dim=d, output_dim=d,\n",
        "                              num_layers=num_layers, act_fn=act_fn).to(device)\n",
        "\n",
        "      # Initialize random MLP classifier acting on final mean-pooled embedding.\n",
        "      mlp = MLPModule(input_dim=d, hidden_dim=100, output_dim=1,\n",
        "                  num_layers=2, act_fn=torch.tanh).to(device)\n",
        "\n",
        "      proportions = []\n",
        "      adj_loader = loader(A)\n",
        "\n",
        "      for graph_dim in NUM_NODES:\n",
        "          classifications = []\n",
        "\n",
        "          for idx in range(2**5):\n",
        "              adj_matrix = next(adj_loader).to(device)\n",
        "              initial_node_feats = torch.rand(graph_dim, d).to(device)\n",
        "\n",
        "              # Obtain final mean-pooled embedding vector over all graph_dim nodes.\n",
        "              output = base_gnn(initial_node_feats, adj_matrix).mean(axis=0)\n",
        "\n",
        "              # Apply MLP classifier to the resulting output.\n",
        "              apply_classifier = mlp(output)\n",
        "\n",
        "              # If smaller than 1/2, output 0, else output 1.\n",
        "              if apply_classifier <= 0.5:\n",
        "                  classifications.append(0)\n",
        "              else:\n",
        "                  classifications.append(1)\n",
        "\n",
        "          # Calculate proportion of graphs classified as 1.\n",
        "          classifications = np.array(classifications)\n",
        "          proportions.append((classifications == 1).sum())\n",
        "\n",
        "      csv.append([mpnn_idx, proportions])\n",
        "\n",
        "      # Evaluate the model on Cora_ML dataset\n",
        "      output = base_gnn(cora_ML_x, cora_ML_adj).mean(axis=0)\n",
        "      apply_classifier = mlp(output)\n",
        "      if apply_classifier <= 0.5:\n",
        "        cora_eval.append([mpnn_idx, 0])\n",
        "      else:\n",
        "        cora_eval.append([mpnn_idx, 1])\n",
        "\n",
        "      if print_info:\n",
        "        print(csv[-1])\n",
        "        print(cora_eval[-1])\n",
        "\n",
        "  print(f\"Cora predictions differ on {count_csv_scores(csv, cora_eval)} out of {num_models} models.\")\n",
        "  return csv, cora_eval"
      ]
    },
    {
      "cell_type": "code",
      "source": [
        "def count_csv_scores(csv, cora_eval):\n",
        "  count = 0\n",
        "  for i in range(len(csv)):\n",
        "    score1 = csv[i][-1][-1]\n",
        "    if score1 > 32/2:\n",
        "      score1 = 1\n",
        "    else:\n",
        "      score1 = 0\n",
        "    score2 = cora_eval[i][-1]\n",
        "    count += int(score1 != score2)\n",
        "  return count"
      ],
      "metadata": {
        "id": "YKgJ4TtQBVIj"
      },
      "execution_count": 12,
      "outputs": []
    },
    {
      "cell_type": "code",
      "source": [
        "# csv_ba[0][5][-1][-1]\n",
        "# cora_eval[0][-1]\n",
        "# print(csv_er)\n",
        "# count_csv_scores(csv_er, cora_eval)"
      ],
      "metadata": {
        "id": "OfEwIFXPH5tH"
      },
      "execution_count": 13,
      "outputs": []
    },
    {
      "cell_type": "code",
      "source": [
        "# adj_1 = get_ba_graph(10)\n",
        "# torch.mean(torch.sum(adj_1, 1)).item()"
      ],
      "metadata": {
        "id": "0_kCsf5I-F7g"
      },
      "execution_count": 14,
      "outputs": []
    },
    {
      "cell_type": "code",
      "source": [
        "# def get_internet_graph(graph_dim, r = None):\n",
        "#   G = nx.random_internet_as_graph(graph_dim)\n",
        "#   A = nx.adjacency_matrix(G)\n",
        "#   adj_matrix = torch.tensor(A.todense()).float() #.to(device)\n",
        "#   return adj_matrix"
      ],
      "metadata": {
        "id": "mp0iJaACB_pa"
      },
      "execution_count": 15,
      "outputs": []
    },
    {
      "cell_type": "code",
      "source": [
        "# def get_regular_graph(graph_dim, r = None):\n",
        "#   G = nx.random_regular_graph(d=6, n=graph_dim)\n",
        "#   A = nx.adjacency_matrix(G)\n",
        "#   adj_matrix = torch.tensor(A.todense()).float() #.to(device)\n",
        "#   return adj_matrix"
      ],
      "metadata": {
        "id": "J3hfkLHZUNrk"
      },
      "execution_count": 16,
      "outputs": []
    },
    {
      "cell_type": "code",
      "source": [
        "def get_ext_ba_graph(graph_dim, r = None):\n",
        "  G = nx.extended_barabasi_albert_graph(n=graph_dim, m=2, p=0.2, q=0.1)\n",
        "  A = nx.adjacency_matrix(G)\n",
        "  adj_matrix = torch.tensor(A.todense()).float() #.to(device)\n",
        "  return adj_matrix"
      ],
      "metadata": {
        "id": "lbyKVYP7XjQ0"
      },
      "execution_count": 17,
      "outputs": []
    },
    {
      "cell_type": "code",
      "source": [
        "adj_1 = get_ext_ba_graph(1000)\n",
        "torch.mean(torch.sum(adj_1, 1)).item()"
      ],
      "metadata": {
        "colab": {
          "base_uri": "https://localhost:8080/"
        },
        "id": "dz-X_Zg2_HV6",
        "outputId": "fbb1cae8-c82f-4223-f27f-2a1cd8ba5eac"
      },
      "execution_count": 18,
      "outputs": [
        {
          "output_type": "execute_result",
          "data": {
            "text/plain": [
              "5.111999988555908"
            ]
          },
          "metadata": {},
          "execution_count": 18
        }
      ]
    },
    {
      "cell_type": "code",
      "execution_count": 19,
      "metadata": {
        "id": "FDa7169RMhHN"
      },
      "outputs": [],
      "source": [
        "import matplotlib.pyplot as plt\n",
        "import pickle"
      ]
    },
    {
      "cell_type": "code",
      "source": [
        "num_models = 100"
      ],
      "metadata": {
        "id": "z4DVacO61fnm"
      },
      "execution_count": 37,
      "outputs": []
    },
    {
      "cell_type": "markdown",
      "source": [
        "ER Graph"
      ],
      "metadata": {
        "id": "RRRnULRvFNVu"
      }
    },
    {
      "cell_type": "code",
      "source": [
        "def get_er_graph(graph_dim, r):\n",
        "  half_matrix = torch.bernoulli(r * (torch.triu(torch.ones(graph_dim, graph_dim)) -\n",
        "                                     torch.eye(graph_dim)))\n",
        "  adj_matrix = half_matrix + half_matrix.T\n",
        "  return adj_matrix\n",
        "\n",
        "NUM_NODES = [10, 50, 100, 500, 1000, 2000, 5000] #40sec\n",
        "csv_er, cora_eval = get_csv(get_er_graph, NUM_NODES, num_models=200)\n",
        "\n",
        "### 6 mistakes\n",
        "### 4 mistakes\n",
        "### 6 mistakes"
      ],
      "metadata": {
        "id": "Y_ZKopt0IQBS",
        "colab": {
          "base_uri": "https://localhost:8080/"
        },
        "outputId": "d1e75d15-1bf9-4c7b-845f-453bef4576f4"
      },
      "execution_count": 38,
      "outputs": [
        {
          "output_type": "stream",
          "name": "stdout",
          "text": [
            "Graphs of size 10 generated in 0.003060189999814611\n",
            "Graphs of size 50 generated in 0.003885026999796537\n",
            "Graphs of size 100 generated in 0.006594823999876098\n",
            "Graphs of size 500 generated in 0.12474669800030824\n",
            "Graphs of size 1000 generated in 0.5140862690000176\n",
            "Graphs of size 2000 generated in 3.176514853000299\n",
            "Graphs of size 5000 generated in 32.26770938699974\n",
            "Cora predictions differ on 51 out of 200 models.\n"
          ]
        }
      ]
    },
    {
      "cell_type": "markdown",
      "source": [
        "BA graph"
      ],
      "metadata": {
        "id": "lqfxFXZ6uxVb"
      }
    },
    {
      "cell_type": "code",
      "source": [
        "### BA GRAPH\n",
        "def get_ba_graph(graph_dim, r=None):\n",
        "  G = nx.barabasi_albert_graph(graph_dim, 3)#, graph_dim // 2)\n",
        "  A = nx.adjacency_matrix(G)\n",
        "  adj_matrix = torch.tensor(A.todense()).float() #.to(device)\n",
        "  return adj_matrix\n",
        "\n",
        "NUM_NODES = [10, 50, 100, 500, 1000]\n",
        "csv_ba = get_csv(get_ba_graph, NUM_NODES, num_models=200)\n",
        "\n",
        "### No errors!!!\n",
        "### 1 error\n",
        "### 1 error\n",
        "### 1 error"
      ],
      "metadata": {
        "id": "CoM4Sj6KI2cw",
        "colab": {
          "base_uri": "https://localhost:8080/"
        },
        "outputId": "b1f5820c-c0d6-4090-9e01-6e7d4984713e"
      },
      "execution_count": 39,
      "outputs": [
        {
          "output_type": "stream",
          "name": "stdout",
          "text": [
            "Graphs of size 10 generated in 0.0236565770001107\n",
            "Graphs of size 50 generated in 0.053950079000060214\n",
            "Graphs of size 100 generated in 0.08718081399956645\n",
            "Graphs of size 500 generated in 0.3853006919998734\n",
            "Graphs of size 1000 generated in 0.605139558999781\n",
            "Cora predictions differ on 13 out of 200 models.\n"
          ]
        }
      ]
    },
    {
      "cell_type": "markdown",
      "source": [
        "n/2 BA Graph"
      ],
      "metadata": {
        "id": "1qyZnZitGWGt"
      }
    },
    {
      "cell_type": "code",
      "source": [
        "### BA GRAPH\n",
        "def get_their_ba_graph(graph_dim, r=None):\n",
        "  G = nx.barabasi_albert_graph(graph_dim, graph_dim // 2)\n",
        "  A = nx.adjacency_matrix(G)\n",
        "  adj_matrix = torch.tensor(A.todense()).float() #.to(device)\n",
        "  return adj_matrix\n",
        "\n",
        "NUM_NODES = [10, 50, 100, 500, 1000] #60sec\n",
        "csv_ba_their = get_csv(get_their_ba_graph, NUM_NODES, num_models=200)\n",
        "\n",
        "### 6 errors!!!\n",
        "### 12 errors\n",
        "### 5\n",
        "### 8"
      ],
      "metadata": {
        "colab": {
          "base_uri": "https://localhost:8080/"
        },
        "id": "tGUN2QikFqX_",
        "outputId": "2a9d6efe-a381-4375-a095-c57638928c83"
      },
      "execution_count": 40,
      "outputs": [
        {
          "output_type": "stream",
          "name": "stdout",
          "text": [
            "Graphs of size 10 generated in 0.017364619000090897\n",
            "Graphs of size 50 generated in 0.09594061200004944\n",
            "Graphs of size 100 generated in 0.3332312739998997\n",
            "Graphs of size 500 generated in 12.092087898000045\n",
            "Graphs of size 1000 generated in 50.5101929020002\n",
            "Cora predictions differ on 52 out of 200 models.\n"
          ]
        }
      ]
    },
    {
      "cell_type": "markdown",
      "source": [
        "Extended BA model"
      ],
      "metadata": {
        "id": "UDHbhBF__a3f"
      }
    },
    {
      "cell_type": "code",
      "source": [
        "## Extended BA model\n",
        "# https://networkx.org/documentation/stable/reference/generated/networkx.generators.random_graphs.extended_barabasi_albert_graph.html#extended-barabasi-albert-graph\n",
        "NUM_NODES = [10, 50, 100, 500, 1000] #60sec\n",
        "csv_ext_ba, cora_csv = get_csv(get_ext_ba_graph, NUM_NODES, num_models=200)\n",
        "\n",
        "### Tylko 2 błędy!!!!!!!! (out of 30)\n",
        "### 1 error\n",
        "### 0"
      ],
      "metadata": {
        "id": "GDPMcd7-VeAy",
        "colab": {
          "base_uri": "https://localhost:8080/"
        },
        "outputId": "d8ea209e-ba92-47b9-eb03-0dfb101dfa36"
      },
      "execution_count": 41,
      "outputs": [
        {
          "output_type": "stream",
          "name": "stdout",
          "text": [
            "Graphs of size 10 generated in 0.01813471000014033\n",
            "Graphs of size 50 generated in 0.06888934400012658\n",
            "Graphs of size 100 generated in 0.1929157640001904\n",
            "Graphs of size 500 generated in 3.409352927999862\n",
            "Graphs of size 1000 generated in 13.836906485000327\n",
            "Cora predictions differ on 5 out of 200 models.\n"
          ]
        }
      ]
    },
    {
      "cell_type": "code",
      "source": [],
      "metadata": {
        "id": "n_wqlv6mz6rB"
      },
      "execution_count": null,
      "outputs": []
    }
  ],
  "metadata": {
    "accelerator": "GPU",
    "colab": {
      "provenance": [],
      "gpuType": "T4"
    },
    "kernelspec": {
      "display_name": "Python 3",
      "name": "python3"
    },
    "language_info": {
      "codemirror_mode": {
        "name": "ipython",
        "version": 3
      },
      "file_extension": ".py",
      "mimetype": "text/x-python",
      "name": "python",
      "nbconvert_exporter": "python",
      "pygments_lexer": "ipython3",
      "version": "3.10.11"
    }
  },
  "nbformat": 4,
  "nbformat_minor": 0
}